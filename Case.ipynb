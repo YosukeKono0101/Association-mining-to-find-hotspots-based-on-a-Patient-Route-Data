{
 "cells": [
  {
   "cell_type": "code",
   "execution_count": 85,
   "metadata": {},
   "outputs": [
    {
     "name": "stdout",
     "output_type": "stream",
     "text": [
      "<class 'pandas.core.frame.DataFrame'>\n",
      "RangeIndex: 1509 entries, 0 to 1508\n",
      "Data columns (total 6 columns):\n",
      "patient_id    1509 non-null int64\n",
      "global_num    959 non-null float64\n",
      "date          1509 non-null object\n",
      "location      1509 non-null object\n",
      "latitude      1509 non-null float64\n",
      "longitude     1509 non-null float64\n",
      "dtypes: float64(3), int64(1), object(2)\n",
      "memory usage: 70.8+ KB\n",
      "None\n"
     ]
    }
   ],
   "source": [
    "#1-1\n",
    "#read data\n",
    "import pandas as pd\n",
    "\n",
    "df = pd.read_csv('D1.csv')\n",
    "\n",
    "print(df.info())"
   ]
  },
  {
   "cell_type": "code",
   "execution_count": 86,
   "metadata": {},
   "outputs": [
    {
     "name": "stdout",
     "output_type": "stream",
     "text": [
      "patient_id\n",
      "1000000001                [Gyeonggi-do_Gimpo-si, Seoul_Jung-gu]\n",
      "1000000002    [Seoul_Seongdong-gu, Seoul_Dongdaemun-gu, Seou...\n",
      "1000000004                                  [Seoul_Jungnang-gu]\n",
      "1000000005                                  [Seoul_Jungnang-gu]\n",
      "1000000006                              [Gyeonggi-do_Goyang-si]\n",
      "1000000007                              [Gyeonggi-do_Goyang-si]\n",
      "1000000008                                      [Seoul_Jung-gu]\n",
      "1000000009                                  [Seoul_Jungnang-gu]\n",
      "1000000010                                  [Seoul_Seongbuk-gu]\n",
      "1000000011                       [Seoul_Jung-gu, Seoul_Mapo-gu]\n",
      "Name: location, dtype: object\n"
     ]
    }
   ],
   "source": [
    "#1-2\n",
    "\n",
    "#Group by patient_id\n",
    "transactions = df.groupby(['patient_id'])['location'].apply(list)\n",
    "\n",
    "print(transactions.head(10))\n"
   ]
  },
  {
   "cell_type": "code",
   "execution_count": 87,
   "metadata": {
    "scrolled": true
   },
   "outputs": [
    {
     "name": "stdout",
     "output_type": "stream",
     "text": [
      "[RelationRecord(items=frozenset({'Busan_Busanjin-gu'}), support=0.012345679012345678, ordered_statistics=[OrderedStatistic(items_base=frozenset(), items_add=frozenset({'Busan_Busanjin-gu'}), confidence=0.012345679012345678, lift=1.0)]), RelationRecord(items=frozenset({'Busan_Dong-gu'}), support=0.01122334455667789, ordered_statistics=[OrderedStatistic(items_base=frozenset(), items_add=frozenset({'Busan_Dong-gu'}), confidence=0.01122334455667789, lift=1.0)]), RelationRecord(items=frozenset({'Busan_Dongnae-gu'}), support=0.019079685746352413, ordered_statistics=[OrderedStatistic(items_base=frozenset(), items_add=frozenset({'Busan_Dongnae-gu'}), confidence=0.019079685746352413, lift=1.0)]), RelationRecord(items=frozenset({'Busan_Haeundae-gu'}), support=0.015712682379349047, ordered_statistics=[OrderedStatistic(items_base=frozenset(), items_add=frozenset({'Busan_Haeundae-gu'}), confidence=0.015712682379349047, lift=1.0)]), RelationRecord(items=frozenset({'Busan_Seo-gu'}), support=0.016835016835016835, ordered_statistics=[OrderedStatistic(items_base=frozenset(), items_add=frozenset({'Busan_Seo-gu'}), confidence=0.016835016835016835, lift=1.0)])]\n"
     ]
    }
   ],
   "source": [
    "from apyori import apriori\n",
    "\n",
    "#transactions to normal list format\n",
    "transaction_list = list(transactions)\n",
    "results = list(apriori(transaction_list,min_support=0.01,min_confidence=0.01))\n",
    "\n",
    "print(results[:5])"
   ]
  },
  {
   "cell_type": "code",
   "execution_count": 88,
   "metadata": {},
   "outputs": [
    {
     "name": "stdout",
     "output_type": "stream",
     "text": [
      "             Left_side          Right_side   Support  Confidence      Lift\n",
      "49        Daegu_Buk-gu       Daegu_Jung-gu  0.011223    0.294118  5.348139\n",
      "50       Daegu_Jung-gu        Daegu_Buk-gu  0.011223    0.204082  5.348139\n",
      "56    Seoul_Gangnam-gu     Incheon_Jung-gu  0.028058    0.500000  3.349624\n",
      "55     Incheon_Jung-gu    Seoul_Gangnam-gu  0.028058    0.187970  3.349624\n",
      "59   Seoul_Jungnang-gu     Incheon_Jung-gu  0.019080    0.215190  1.441610\n",
      "58     Incheon_Jung-gu   Seoul_Jungnang-gu  0.019080    0.127820  1.441610\n",
      "62  Seoul_Yangcheon-gu     Incheon_Jung-gu  0.012346    0.203704  1.364662\n",
      "61     Incheon_Jung-gu  Seoul_Yangcheon-gu  0.012346    0.082707  1.364662\n",
      "40                      Seoul_Seodaemun-gu  0.016835    0.016835  1.000000\n",
      "39                         Seoul_Seocho-gu  0.026936    0.026936  1.000000\n"
     ]
    }
   ],
   "source": [
    "def convert_apriori_results_to_pandas_df(results):\n",
    "    rules = []\n",
    "    \n",
    "    for rule_set in results : \n",
    "        for rule in rule_set.ordered_statistics :\n",
    "            rules.append([','.join(rule.items_base),','.join(rule.items_add),\n",
    "                        rule_set.support,rule.confidence,rule.lift])\n",
    "            \n",
    "    return pd.DataFrame(rules,columns = ['Left_side','Right_side','Support',\n",
    "                                        'Confidence','Lift'])\n",
    "\n",
    "result_df = convert_apriori_results_to_pandas_df(results)\n",
    "\n",
    "result_df = result_df.sort_values(by = 'Lift',ascending=False)\n",
    "\n",
    "print(result_df.head(10))\n"
   ]
  },
  {
   "cell_type": "code",
   "execution_count": 89,
   "metadata": {},
   "outputs": [
    {
     "name": "stdout",
     "output_type": "stream",
     "text": [
      "         Left_side                        Right_side   Support  Confidence  \\\n",
      "158   Busan_Buk-gu                   Busan_Yeonje-gu  0.003367         0.6   \n",
      "155   Busan_Buk-gu                  Busan_Gangseo-gu  0.003367         0.6   \n",
      "161   Busan_Buk-gu                    Gwangju_Buk-gu  0.002245         0.4   \n",
      "1868  Busan_Buk-gu  Busan_Yeonje-gu,Busan_Gangseo-gu  0.002245         0.4   \n",
      "1910  Busan_Buk-gu    Busan_Yeonje-gu,Gwangju_Buk-gu  0.002245         0.4   \n",
      "\n",
      "            Lift  \n",
      "158    10.482353  \n",
      "155    76.371429  \n",
      "161   118.800000  \n",
      "1868  118.800000  \n",
      "1910  118.800000  \n"
     ]
    }
   ],
   "source": [
    "#1-3\n",
    "\n",
    "#list most of possible result \n",
    "results2 = list(apriori(transaction_list,min_support=0.001,min_confidence=0.001))\n",
    "result_df2 = convert_apriori_results_to_pandas_df(results2)\n",
    "\n",
    "#Exploit data that Left_side is Busan_Buk-gu\n",
    "route = result_df2[result_df2['Left_side'] == \"Busan_Buk-gu\"]\n",
    "\n",
    "route_sorted = route.sort_values(by = \"Support\",ascending = False)\n",
    "\n",
    "print(route_sorted.head(5))"
   ]
  },
  {
   "cell_type": "code",
   "execution_count": 90,
   "metadata": {},
   "outputs": [],
   "source": [
    "#1-4\n",
    "from collections import defaultdict\n",
    "import re\n",
    "\n",
    "def create_input_file(sequences):\n",
    "    # step 1: create required input for SPMF\n",
    "    \n",
    "    # prepare a dict to uniquely assign each item in the transactions to an int ID\n",
    "    item_dict = defaultdict(int)\n",
    "    output_dict = defaultdict(str)\n",
    "    item_id = 1\n",
    "    \n",
    "    # write your sequences in SPMF format\n",
    "    with open('seq_rule_input.txt', 'w+') as f:\n",
    "        for sequence in sequences:\n",
    "            z = []\n",
    "            for itemset in sequence:\n",
    "                # if there are multiple items in one itemset\n",
    "                if isinstance(itemset, list):\n",
    "                    for item in itemset:\n",
    "                        if item not in item_dict:\n",
    "                            item_dict[item] = item_id\n",
    "                            output_dict[str(item_id)] = itemset   ## Extra\n",
    "                            item_id += 1\n",
    "\n",
    "                        z.append(item_dict[item])\n",
    "                else:\n",
    "                    if itemset not in item_dict:\n",
    "                        item_dict[itemset] = item_id\n",
    "                        output_dict[str(item_id)] = itemset\n",
    "                        item_id += 1\n",
    "                    z.append(item_dict[itemset])\n",
    "                    \n",
    "                # end of itemset\n",
    "                z.append(-1)\n",
    "            \n",
    "            # end of a sequence\n",
    "            z.append(-2)\n",
    "            f.write(' '.join([str(x) for x in z]))\n",
    "            f.write('\\n')\n",
    "            \n",
    "    return output_dict\n",
    "\n",
    "def convert_output_file(sequences, output_dict):\n",
    "    outputs = open('seq_rule_output.txt', 'r').read().strip().split('\\n')\n",
    "    output_rules = []\n",
    "    for rule in outputs:\n",
    "          left, right, sup, conf = re.search(pattern=r'([0-9\\,]+) ==> ([0-9\\,]+) #SUP: ([0-9]+) #CONF: ([0-9\\.]+)', string=rule).groups()\n",
    "          sup = int(sup) / len(sequences)\n",
    "          conf = float(conf)\n",
    "          output_rules.append([[output_dict[x] for x in left.split(',')], [output_dict[x] for x in right.split(',')], sup, conf])\n",
    "\n",
    "    # return pandas DataFrame\n",
    "    return pd.DataFrame(output_rules, columns = ['Left_rule', 'Right_rule', 'Support', 'Confidence'])"
   ]
  },
  {
   "cell_type": "code",
   "execution_count": null,
   "metadata": {},
   "outputs": [],
   "source": []
  }
 ],
 "metadata": {
  "kernelspec": {
   "display_name": "Python 3",
   "language": "python",
   "name": "python3"
  },
  "language_info": {
   "codemirror_mode": {
    "name": "ipython",
    "version": 3
   },
   "file_extension": ".py",
   "mimetype": "text/x-python",
   "name": "python",
   "nbconvert_exporter": "python",
   "pygments_lexer": "ipython3",
   "version": "3.7.3"
  }
 },
 "nbformat": 4,
 "nbformat_minor": 2
}
